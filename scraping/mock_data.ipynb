{
 "cells": [
  {
   "cell_type": "code",
   "execution_count": 76,
   "metadata": {},
   "outputs": [],
   "source": [
    "# import libraries\n",
    "from bs4 import BeautifulSoup\n",
    "import requests\n",
    "import pandas as pd\n",
    "import re"
   ]
  },
  {
   "cell_type": "code",
   "execution_count": 2,
   "metadata": {},
   "outputs": [
    {
     "name": "stdout",
     "output_type": "stream",
     "text": [
      "200\n"
     ]
    }
   ],
   "source": [
    "base_url = 'https://www.chambredesrepresentants.ma'\n",
    "url = f'{base_url}/fr/questions-ecrites'\n",
    "\n",
    "# get the page\n",
    "page = requests.get(url)\n",
    "print(page.status_code)"
   ]
  },
  {
   "cell_type": "code",
   "execution_count": 3,
   "metadata": {},
   "outputs": [
    {
     "name": "stdout",
     "output_type": "stream",
     "text": [
      "Content downloaded.\n"
     ]
    }
   ],
   "source": [
    "content = page.text\n",
    "if content: print('Content downloaded.')"
   ]
  },
  {
   "cell_type": "code",
   "execution_count": 4,
   "metadata": {},
   "outputs": [
    {
     "name": "stdout",
     "output_type": "stream",
     "text": [
      "Soup created.\n"
     ]
    }
   ],
   "source": [
    "soup = BeautifulSoup(content, 'lxml')\n",
    "if soup: print('Soup created.')"
   ]
  },
  {
   "cell_type": "code",
   "execution_count": 6,
   "metadata": {},
   "outputs": [],
   "source": [
    "question_divs = soup('div', class_='q-block3')"
   ]
  },
  {
   "cell_type": "code",
   "execution_count": 7,
   "metadata": {},
   "outputs": [],
   "source": [
    "question_example = question_divs[0]"
   ]
  },
  {
   "cell_type": "code",
   "execution_count": 8,
   "metadata": {},
   "outputs": [],
   "source": [
    "# get answer status\n",
    "answered = 'q-st-green' in question_example.div.span.attrs['class']"
   ]
  },
  {
   "cell_type": "code",
   "execution_count": 9,
   "metadata": {},
   "outputs": [],
   "source": [
    "div1, div2 = question_example('div', class_='q-b3-col')"
   ]
  },
  {
   "cell_type": "code",
   "execution_count": 16,
   "metadata": {},
   "outputs": [
    {
     "name": "stdout",
     "output_type": "stream",
     "text": [
      "تعيين طبيب متخصص في أمراض الكلي بمركزي تصفية الدم بكل من مرتيل والفنيدق وكذا بمستشفى محمد السادس بالمضيق\n",
      "https://www.chambredesrepresentants.ma/fr/%D9%85%D8%B1%D8%A7%D9%82%D8%A8%D8%A9-%D8%A7%D9%84%D8%B9%D9%85%D9%84-%D8%A7%D9%84%D8%AD%D9%83%D9%88%D9%85%D9%8A/%D8%A7%D9%84%D8%A3%D8%B3%D9%80%D8%A6%D9%84%D8%A9-%D8%A7%D9%84%D9%83%D8%AA%D8%A7%D8%A8%D9%8A%D8%A9/%D8%AA%D8%B9%D9%8A%D9%8A%D9%86-%D8%B7%D8%A8%D9%8A%D8%A8-%D9%85%D8%AA%D8%AE%D8%B5%D8%B5-%D9%81%D9%8A-%D8%A3%D9%85%D8%B1%D8%A7%D8%B6-%D8%A7%D9%84%D9%83%D9%84%D9%8A-%D8%A8%D9%85%D8%B1%D9%83%D8%B2%D9%8A-%D8%AA%D8%B5%D9%81%D9%8A%D8%A9-%D8%A7%D9%84%D8%AF%D9%85-%D8%A8%D9%83%D9%84-%D9%85%D9%86\n",
      "14/11/2023\n"
     ]
    }
   ],
   "source": [
    "# get object, link and date of question\n",
    "object = div1.find('a').contents[0].strip()\n",
    "link = f\"{base_url}{div1.find('a').attrs['href']}\"\n",
    "date = div1.findAll('div')[-1].contents[-1].strip()\n",
    "print(object)\n",
    "print(link)\n",
    "print(date)"
   ]
  },
  {
   "cell_type": "code",
   "execution_count": 41,
   "metadata": {},
   "outputs": [
    {
     "name": "stdout",
     "output_type": "stream",
     "text": [
      "Mohamed Larbi Merabet\n",
      "الصحة والحماية الاجتماعية.\n"
     ]
    }
   ],
   "source": [
    "# get author and ministry of question\n",
    "author = div2.find('a').text.strip()\n",
    "ministry = div2('div')[1].contents[-1].text.strip()\n",
    "print(author)\n",
    "print(ministry)"
   ]
  },
  {
   "cell_type": "code",
   "execution_count": 54,
   "metadata": {},
   "outputs": [
    {
     "name": "stdout",
     "output_type": "stream",
     "text": [
      "200\n"
     ]
    }
   ],
   "source": [
    "question_page = requests.get(link)\n",
    "print(question_page.status_code)"
   ]
  },
  {
   "cell_type": "code",
   "execution_count": 55,
   "metadata": {},
   "outputs": [],
   "source": [
    "question_content = question_page.text\n",
    "question_soup = BeautifulSoup(question_content, 'lxml')"
   ]
  },
  {
   "cell_type": "code",
   "execution_count": 92,
   "metadata": {},
   "outputs": [],
   "source": [
    "_, div1, _, div2, _, div3, _ = question_soup('section')[-1].find('div', class_=re.compile('q-block1')).contents"
   ]
  },
  {
   "cell_type": "code",
   "execution_count": 103,
   "metadata": {},
   "outputs": [
    {
     "data": {
      "text/plain": [
       "<div class=\"q-b1-1\">\n",
       "<div><span> رقم السؤال : 13754</span></div>\n",
       "<div><span>Objet :  تعيين طبيب متخصص في أمراض الكلي بمركزي تصفية الدم بكل من مرتيل والفنيدق وكذا بمستشفى محمد السادس بالمضيق</span></div>\n",
       "<div><span> Date réponse : </span><span class=\"q-date\">pas de réponse</span></div>\n",
       "<!---  <span class=\"q-status  q-st-red \"></span> -->\n",
       "</div>"
      ]
     },
     "execution_count": 103,
     "metadata": {},
     "output_type": "execute_result"
    }
   ],
   "source": [
    "div1"
   ]
  },
  {
   "cell_type": "code",
   "execution_count": 111,
   "metadata": {},
   "outputs": [
    {
     "name": "stdout",
     "output_type": "stream",
     "text": [
      "13754\n",
      "None\n"
     ]
    }
   ],
   "source": [
    "question_id = div1.div.text.strip()[13:]\n",
    "answer_date = None\n",
    "if answered:\n",
    "    answer_date = div1.findAll('div')[-1]('span')[-1].text\n",
    "print(question_id)\n",
    "print(answer_date)"
   ]
  },
  {
   "cell_type": "code",
   "execution_count": 127,
   "metadata": {},
   "outputs": [
    {
     "name": "stdout",
     "output_type": "stream",
     "text": [
      "يشتكي مرضى القصور الكلوي الذين يتلقون العلاج بكل من مركز تصفية الدم بمرتيل ومركز تصفية الدم بالفنيدق ومستشفى محمد السادس بالمضيق من غياب طبيب متخصص في أمراض الكلي، وهو ما يؤثر على جودة ونوعية الخدمات الطبية التي يتلقونها.\n",
      "وفي التفاصيل، فقد قامت طبيبة أمراض الكلي التي كانت تشتغل بالمراكز والمستشفى المذكورين أعلاه، بتقديم طلب الاستفادة من المغادرة الطوعية، تاركة خصاصا على مستوى هذه المراكز والمستشفى.\n",
      "وتمكن هذه البنيات الاستشفائية من تخفيف معاناة مرضى القصور الكلوي الذين ظلوا لفترات طويلة يتحملون عناء السفر والتنقل إلى مدن أخرى من أجل تلقي العلاج، غير أن غياب الطبيب متخصص في أمراض الكلي سيجعل هؤلاء المرضى يعيشون نفس الأوضاع الصعبة التي كانوا يعيشونها في السابق.\n",
      "وعليه، نسائلكم عن التدابير الاستعجالية التي تعتزمون اتخاذها من أجل تعيين طبيب متخصص في أمراض الكلي بمركزي تصفية الدم بكل من مرتيل والفنيدق وكذا بمستشفى محمد السادس بالمضيق؟\n"
     ]
    }
   ],
   "source": [
    "question = div3('div')[-1].text.strip()[10:].strip()\n",
    "print(question)"
   ]
  }
 ],
 "metadata": {
  "kernelspec": {
   "display_name": "base",
   "language": "python",
   "name": "python3"
  },
  "language_info": {
   "codemirror_mode": {
    "name": "ipython",
    "version": 3
   },
   "file_extension": ".py",
   "mimetype": "text/x-python",
   "name": "python",
   "nbconvert_exporter": "python",
   "pygments_lexer": "ipython3",
   "version": "3.10.11"
  }
 },
 "nbformat": 4,
 "nbformat_minor": 2
}
